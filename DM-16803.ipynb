{
 "cells": [
  {
   "cell_type": "code",
   "execution_count": 1,
   "metadata": {},
   "outputs": [],
   "source": [
    "from lsst.daf.persistence import Butler"
   ]
  },
  {
   "cell_type": "code",
   "execution_count": 2,
   "metadata": {},
   "outputs": [],
   "source": [
    "from lsst.ci.hsc.data import DATA"
   ]
  },
  {
   "cell_type": "code",
   "execution_count": 3,
   "metadata": {},
   "outputs": [],
   "source": [
    "from lsst.ci.hsc.tasks import PIPELINE"
   ]
  },
  {
   "cell_type": "code",
   "execution_count": 4,
   "metadata": {},
   "outputs": [],
   "source": [
    "processCcd = PIPELINE[\"processCcd\"]"
   ]
  },
  {
   "cell_type": "code",
   "execution_count": 5,
   "metadata": {},
   "outputs": [],
   "source": [
    "class MockEnvironment:\n",
    "    def Command(self, outputs, inputs, cmd):\n",
    "        return (outputs, inputs, cmd)"
   ]
  },
  {
   "cell_type": "code",
   "execution_count": 6,
   "metadata": {},
   "outputs": [],
   "source": [
    "butler = Butler(\"DATA/rerun/ci_hsc\")"
   ]
  },
  {
   "cell_type": "code",
   "execution_count": 7,
   "metadata": {},
   "outputs": [],
   "source": [
    "env = MockEnvironment()"
   ]
  },
  {
   "cell_type": "code",
   "execution_count": 8,
   "metadata": {},
   "outputs": [
    {
     "data": {
      "text/plain": [
       "(['/home/jbosch/LSST/src/ci_hsc/DATA/rerun/ci_hsc/schema/icSrc.fits',\n",
       "  '/home/jbosch/LSST/src/ci_hsc/DATA/rerun/ci_hsc/config/processCcd.py',\n",
       "  '/home/jbosch/LSST/src/ci_hsc/DATA/rerun/ci_hsc/schema/src.fits'],\n",
       " [],\n",
       " ['/home/jbosch/LSST/src/pipe_tasks/bin/processCcd.py DATA --rerun ci_hsc '])"
      ]
     },
     "execution_count": 8,
     "metadata": {},
     "output_type": "execute_result"
    }
   ],
   "source": [
    "processCcd.makeInitTarget(env, butler, \"DATA\", \"ci_hsc\")"
   ]
  },
  {
   "cell_type": "code",
   "execution_count": 9,
   "metadata": {},
   "outputs": [],
   "source": [
    "data = list(list(DATA.values())[0])[0]"
   ]
  },
  {
   "cell_type": "code",
   "execution_count": 10,
   "metadata": {},
   "outputs": [
    {
     "data": {
      "text/plain": [
       "(['/home/jbosch/LSST/src/ci_hsc/DATA/rerun/ci_hsc/00533/HSC-R/output/SRCMATCH-0903334-100.fits',\n",
       "  '/home/jbosch/LSST/src/ci_hsc/DATA/rerun/ci_hsc/00533/HSC-R/output/SRC-0903334-100.fits',\n",
       "  '/home/jbosch/LSST/src/ci_hsc/DATA/rerun/ci_hsc/00533/HSC-R/output/ICSRC-0903334-100.fits',\n",
       "  '/home/jbosch/LSST/src/ci_hsc/DATA/rerun/ci_hsc/00533/HSC-R/corr/CORR-0903334-100.fits',\n",
       "  '/home/jbosch/LSST/src/ci_hsc/DATA/rerun/ci_hsc/00533/HSC-R/corr/BKGD-0903334-100.fits',\n",
       "  '/home/jbosch/LSST/src/ci_hsc/DATA/rerun/ci_hsc/00533/HSC-R/output/SRCMATCHFULL-0903334-100.fits',\n",
       "  '/home/jbosch/LSST/src/ci_hsc/DATA/rerun/ci_hsc/00533/HSC-R/processCcd_metadata/0903334-100.yaml'],\n",
       " ['/home/jbosch/LSST/src/ci_hsc/DATA/rerun/ci_hsc/schema/icSrc.fits',\n",
       "  '/home/jbosch/LSST/src/ci_hsc/DATA/rerun/ci_hsc/config/processCcd.py',\n",
       "  '/home/jbosch/LSST/src/ci_hsc/DATA/rerun/ci_hsc/schema/src.fits'],\n",
       " ['/home/jbosch/LSST/src/pipe_tasks/bin/processCcd.py DATA --rerun ci_hsc  --id visit=903334 ccd=100'])"
      ]
     },
     "execution_count": 10,
     "metadata": {},
     "output_type": "execute_result"
    }
   ],
   "source": [
    "processCcd.makeRunTarget(env, butler, \"DATA\", \"ci_hsc\", data)"
   ]
  },
  {
   "cell_type": "code",
   "execution_count": null,
   "metadata": {},
   "outputs": [],
   "source": []
  }
 ],
 "metadata": {
  "kernelspec": {
   "display_name": "Python 3",
   "language": "python",
   "name": "python3"
  },
  "language_info": {
   "codemirror_mode": {
    "name": "ipython",
    "version": 3
   },
   "file_extension": ".py",
   "mimetype": "text/x-python",
   "name": "python",
   "nbconvert_exporter": "python",
   "pygments_lexer": "ipython3",
   "version": "3.6.6"
  }
 },
 "nbformat": 4,
 "nbformat_minor": 2
}
